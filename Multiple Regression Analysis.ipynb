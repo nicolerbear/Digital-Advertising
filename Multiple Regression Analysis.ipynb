{
 "cells": [
  {
   "cell_type": "markdown",
   "metadata": {},
   "source": [
    "# Regression to Compare Variables in Facebook Campaigns\n",
    "## By Nicole Haberer\n",
    "## Created for APRD6342"
   ]
  },
  {
   "cell_type": "code",
   "execution_count": 1,
   "metadata": {},
   "outputs": [],
   "source": [
    "import pandas as pd\n",
    "from pandas import DataFrame \n",
    "import numpy\n",
    "import statsmodels.api as sm\n",
    "import seaborn as sns"
   ]
  },
  {
   "cell_type": "code",
   "execution_count": 5,
   "metadata": {},
   "outputs": [],
   "source": [
    "#assigns filename into string variable\n",
    "pony = pd.read_csv(r\"C:\\Users\\andis\\Desktop\\MSBA Classes\\Working Directory\\Travel Pony Facebook.csv\")"
   ]
  },
  {
   "cell_type": "code",
   "execution_count": 6,
   "metadata": {},
   "outputs": [],
   "source": [
    "#remove rows with zeros in amount spent column\n",
    "pony2 = pony[pony['Amount Spent (USD)'] != 0]"
   ]
  },
  {
   "cell_type": "code",
   "execution_count": 7,
   "metadata": {},
   "outputs": [
    {
     "name": "stderr",
     "output_type": "stream",
     "text": [
      "C:\\Users\\andis\\Anaconda3\\lib\\site-packages\\matplotlib\\axes\\_axes.py:6462: UserWarning: The 'normed' kwarg is deprecated, and has been replaced by the 'density' kwarg.\n",
      "  warnings.warn(\"The 'normed' kwarg is deprecated, and has been \"\n"
     ]
    },
    {
     "data": {
      "text/plain": [
       "<matplotlib.axes._subplots.AxesSubplot at 0x1da16cb7550>"
      ]
     },
     "execution_count": 7,
     "metadata": {},
     "output_type": "execute_result"
    },
    {
     "data": {
      "image/png": "[encoded data removed]",
      "text/plain": [
       "<Figure size 432x288 with 1 Axes>"
      ]
     },
     "metadata": {},
     "output_type": "display_data"
    }
   ],
   "source": [
    "# 1. Graph histogram\n",
    "sns.set_style('darkgrid')\n",
    "sns.distplot(pony2['Amount Spent (USD)'])"
   ]
  },
  {
   "cell_type": "code",
   "execution_count": 9,
   "metadata": {},
   "outputs": [
    {
     "name": "stderr",
     "output_type": "stream",
     "text": [
      "C:\\Users\\andis\\Anaconda3\\lib\\site-packages\\ipykernel_launcher.py:3: SettingWithCopyWarning: \n",
      "A value is trying to be set on a copy of a slice from a DataFrame.\n",
      "Try using .loc[row_indexer,col_indexer] = value instead\n",
      "\n",
      "See the caveats in the documentation: http://pandas.pydata.org/pandas-docs/stable/indexing.html#indexing-view-versus-copy\n",
      "  This is separate from the ipykernel package so we can avoid doing imports until\n",
      "C:\\Users\\andis\\Anaconda3\\lib\\site-packages\\ipykernel_launcher.py:4: SettingWithCopyWarning: \n",
      "A value is trying to be set on a copy of a slice from a DataFrame.\n",
      "Try using .loc[row_indexer,col_indexer] = value instead\n",
      "\n",
      "See the caveats in the documentation: http://pandas.pydata.org/pandas-docs/stable/indexing.html#indexing-view-versus-copy\n",
      "  after removing the cwd from sys.path.\n"
     ]
    },
    {
     "data": {
      "text/html": [
       "<table class=\"simpletable\">\n",
       "<caption>OLS Regression Results</caption>\n",
       "<tr>\n",
       "  <th>Dep. Variable:</th>    <td>Amount Spent (USD)</td> <th>  R-squared:         </th> <td>   0.927</td> \n",
       "</tr>\n",
       "<tr>\n",
       "  <th>Model:</th>                    <td>OLS</td>        <th>  Adj. R-squared:    </th> <td>   0.926</td> \n",
       "</tr>\n",
       "<tr>\n",
       "  <th>Method:</th>              <td>Least Squares</td>   <th>  F-statistic:       </th> <td>   1743.</td> \n",
       "</tr>\n",
       "<tr>\n",
       "  <th>Date:</th>              <td>Tue, 16 Oct 2018</td>  <th>  Prob (F-statistic):</th>  <td>  0.00</td>  \n",
       "</tr>\n",
       "<tr>\n",
       "  <th>Time:</th>                  <td>19:14:13</td>      <th>  Log-Likelihood:    </th> <td> -6591.5</td> \n",
       "</tr>\n",
       "<tr>\n",
       "  <th>No. Observations:</th>       <td>  1802</td>       <th>  AIC:               </th> <td>1.321e+04</td>\n",
       "</tr>\n",
       "<tr>\n",
       "  <th>Df Residuals:</th>           <td>  1788</td>       <th>  BIC:               </th> <td>1.329e+04</td>\n",
       "</tr>\n",
       "<tr>\n",
       "  <th>Df Model:</th>               <td>    13</td>       <th>                     </th>     <td> </td>    \n",
       "</tr>\n",
       "<tr>\n",
       "  <th>Covariance Type:</th>       <td>nonrobust</td>     <th>                     </th>     <td> </td>    \n",
       "</tr>\n",
       "</table>\n",
       "<table class=\"simpletable\">\n",
       "<tr>\n",
       "         <td></td>            <th>coef</th>     <th>std err</th>      <th>t</th>      <th>P>|t|</th>  <th>[0.025</th>    <th>0.975]</th>  \n",
       "</tr>\n",
       "<tr>\n",
       "  <th>const</th>           <td>   -8.2165</td> <td>    1.531</td> <td>   -5.366</td> <td> 0.000</td> <td>  -11.220</td> <td>   -5.213</td>\n",
       "</tr>\n",
       "<tr>\n",
       "  <th>Campaign Code 2</th> <td>    0.0135</td> <td>    0.002</td> <td>    5.979</td> <td> 0.000</td> <td>    0.009</td> <td>    0.018</td>\n",
       "</tr>\n",
       "<tr>\n",
       "  <th>Reach</th>           <td>    0.0036</td> <td>    0.000</td> <td>   23.278</td> <td> 0.000</td> <td>    0.003</td> <td>    0.004</td>\n",
       "</tr>\n",
       "<tr>\n",
       "  <th>Frequency</th>       <td>    4.4988</td> <td>    1.438</td> <td>    3.128</td> <td> 0.002</td> <td>    1.678</td> <td>    7.320</td>\n",
       "</tr>\n",
       "<tr>\n",
       "  <th>Impressions</th>     <td>   -0.0013</td> <td> 6.05e-05</td> <td>  -21.458</td> <td> 0.000</td> <td>   -0.001</td> <td>   -0.001</td>\n",
       "</tr>\n",
       "<tr>\n",
       "  <th>Clicks</th>          <td>   -0.1742</td> <td>    0.111</td> <td>   -1.569</td> <td> 0.117</td> <td>   -0.392</td> <td>    0.044</td>\n",
       "</tr>\n",
       "<tr>\n",
       "  <th>Unique Clicks</th>   <td>    0.3073</td> <td>    0.126</td> <td>    2.444</td> <td> 0.015</td> <td>    0.061</td> <td>    0.554</td>\n",
       "</tr>\n",
       "<tr>\n",
       "  <th>Page Likes</th>      <td>   23.0417</td> <td>    9.444</td> <td>    2.440</td> <td> 0.015</td> <td>    4.520</td> <td>   41.564</td>\n",
       "</tr>\n",
       "<tr>\n",
       "  <th>Page Engagement</th> <td>  -19.7454</td> <td>    9.440</td> <td>   -2.092</td> <td> 0.037</td> <td>  -38.261</td> <td>   -1.230</td>\n",
       "</tr>\n",
       "<tr>\n",
       "  <th>Post Engagement</th> <td>   16.8084</td> <td>    7.868</td> <td>    2.136</td> <td> 0.033</td> <td>    1.378</td> <td>   32.239</td>\n",
       "</tr>\n",
       "<tr>\n",
       "  <th>Post Likes</th>      <td>    2.3714</td> <td>    1.578</td> <td>    1.502</td> <td> 0.133</td> <td>   -0.724</td> <td>    5.467</td>\n",
       "</tr>\n",
       "<tr>\n",
       "  <th>Post Comments</th>   <td>    3.4253</td> <td>    1.641</td> <td>    2.087</td> <td> 0.037</td> <td>    0.207</td> <td>    6.644</td>\n",
       "</tr>\n",
       "<tr>\n",
       "  <th>Post Shares</th>     <td>    4.4798</td> <td>    1.602</td> <td>    2.797</td> <td> 0.005</td> <td>    1.339</td> <td>    7.621</td>\n",
       "</tr>\n",
       "<tr>\n",
       "  <th>Photo Views</th>     <td>    3.1556</td> <td>    1.577</td> <td>    2.002</td> <td> 0.045</td> <td>    0.064</td> <td>    6.248</td>\n",
       "</tr>\n",
       "<tr>\n",
       "  <th>Website Clicks</th>  <td>    3.3764</td> <td>    1.577</td> <td>    2.142</td> <td> 0.032</td> <td>    0.284</td> <td>    6.468</td>\n",
       "</tr>\n",
       "</table>\n",
       "<table class=\"simpletable\">\n",
       "<tr>\n",
       "  <th>Omnibus:</th>       <td>878.966</td> <th>  Durbin-Watson:     </th> <td>   1.873</td> \n",
       "</tr>\n",
       "<tr>\n",
       "  <th>Prob(Omnibus):</th> <td> 0.000</td>  <th>  Jarque-Bera (JB):  </th> <td>26666.114</td>\n",
       "</tr>\n",
       "<tr>\n",
       "  <th>Skew:</th>          <td> 1.680</td>  <th>  Prob(JB):          </th> <td>    0.00</td> \n",
       "</tr>\n",
       "<tr>\n",
       "  <th>Kurtosis:</th>      <td>21.544</td>  <th>  Cond. No.          </th> <td>1.08e+19</td> \n",
       "</tr>\n",
       "</table><br/><br/>Warnings:<br/>[1] Standard Errors assume that the covariance matrix of the errors is correctly specified.<br/>[2] The smallest eigenvalue is 1.64e-26. This might indicate that there are<br/>strong multicollinearity problems or that the design matrix is singular."
      ],
      "text/plain": [
       "<class 'statsmodels.iolib.summary.Summary'>\n",
       "\"\"\"\n",
       "                            OLS Regression Results                            \n",
       "==============================================================================\n",
       "Dep. Variable:     Amount Spent (USD)   R-squared:                       0.927\n",
       "Model:                            OLS   Adj. R-squared:                  0.926\n",
       "Method:                 Least Squares   F-statistic:                     1743.\n",
       "Date:                Tue, 16 Oct 2018   Prob (F-statistic):               0.00\n",
       "Time:                        19:14:13   Log-Likelihood:                -6591.5\n",
       "No. Observations:                1802   AIC:                         1.321e+04\n",
       "Df Residuals:                    1788   BIC:                         1.329e+04\n",
       "Df Model:                          13                                         \n",
       "Covariance Type:            nonrobust                                         \n",
       "===================================================================================\n",
       "                      coef    std err          t      P>|t|      [0.025      0.975]\n",
       "-----------------------------------------------------------------------------------\n",
       "const              -8.2165      1.531     -5.366      0.000     -11.220      -5.213\n",
       "Campaign Code 2     0.0135      0.002      5.979      0.000       0.009       0.018\n",
       "Reach               0.0036      0.000     23.278      0.000       0.003       0.004\n",
       "Frequency           4.4988      1.438      3.128      0.002       1.678       7.320\n",
       "Impressions        -0.0013   6.05e-05    -21.458      0.000      -0.001      -0.001\n",
       "Clicks             -0.1742      0.111     -1.569      0.117      -0.392       0.044\n",
       "Unique Clicks       0.3073      0.126      2.444      0.015       0.061       0.554\n",
       "Page Likes         23.0417      9.444      2.440      0.015       4.520      41.564\n",
       "Page Engagement   -19.7454      9.440     -2.092      0.037     -38.261      -1.230\n",
       "Post Engagement    16.8084      7.868      2.136      0.033       1.378      32.239\n",
       "Post Likes          2.3714      1.578      1.502      0.133      -0.724       5.467\n",
       "Post Comments       3.4253      1.641      2.087      0.037       0.207       6.644\n",
       "Post Shares         4.4798      1.602      2.797      0.005       1.339       7.621\n",
       "Photo Views         3.1556      1.577      2.002      0.045       0.064       6.248\n",
       "Website Clicks      3.3764      1.577      2.142      0.032       0.284       6.468\n",
       "==============================================================================\n",
       "Omnibus:                      878.966   Durbin-Watson:                   1.873\n",
       "Prob(Omnibus):                  0.000   Jarque-Bera (JB):            26666.114\n",
       "Skew:                           1.680   Prob(JB):                         0.00\n",
       "Kurtosis:                      21.544   Cond. No.                     1.08e+19\n",
       "==============================================================================\n",
       "\n",
       "Warnings:\n",
       "[1] Standard Errors assume that the covariance matrix of the errors is correctly specified.\n",
       "[2] The smallest eigenvalue is 1.64e-26. This might indicate that there are\n",
       "strong multicollinearity problems or that the design matrix is singular.\n",
       "\"\"\""
      ]
     },
     "execution_count": 9,
     "metadata": {},
     "output_type": "execute_result"
    }
   ],
   "source": [
    "# 2. Multiple Regression Analysis\n",
    "# make campaign_name into a categorical variable\n",
    "pony2['Campaign Code'] = pony2['Campaign Name'].astype('category')\n",
    "pony2['Campaign Code 2'] = pony2['Campaign Code'].cat.codes\n",
    "\n",
    "#assign variables to be used in regression\n",
    "X = pony2[['Campaign Code 2', 'Reach','Frequency','Impressions', 'Clicks', 'Unique Clicks','Page Likes', 'Page Engagement', 'Post Engagement', 'Post Likes', 'Post Comments', 'Post Shares', 'Photo Views', 'Website Clicks']]\n",
    "X = sm.add_constant(X)\n",
    "y = pony2['Amount Spent (USD)']\n",
    "\n",
    "#run regression\n",
    "model = sm.OLS(y, X).fit()\n",
    "predictions = model.predict(X)\n",
    "model.summary()\n",
    "\n",
    "#3 What are the three predictors with the highest predictive value by rank.\n",
    "# #1 Page Likes         coefficient = 23.0417 \n",
    "# #2 Post Engagement    coefficient = 16.8084\n",
    "# #3 Frequency          coefficient =  4.4988"
   ]
  },
  {
   "cell_type": "code",
   "execution_count": null,
   "metadata": {},
   "outputs": [],
   "source": []
  }
 ],
 "metadata": {
  "kernelspec": {
   "display_name": "Python 3",
   "language": "python",
   "name": "python3"
  },
  "language_info": {
   "codemirror_mode": {
    "name": "ipython",
    "version": 3
   },
   "file_extension": ".py",
   "mimetype": "text/x-python",
   "name": "python",
   "nbconvert_exporter": "python",
   "pygments_lexer": "ipython3",
   "version": "3.6.5"
  }
 },
 "nbformat": 4,
 "nbformat_minor": 2
}
