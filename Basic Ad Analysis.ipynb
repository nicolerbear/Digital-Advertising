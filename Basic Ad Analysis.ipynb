{
 "cells": [
  {
   "cell_type": "markdown",
   "metadata": {},
   "source": [
    "# Predictive Analytics using Lasso Regression Model\n",
    "## By Nicole Haberer\n",
    "## Created for APRD6342\n",
    "\n",
    "Based on a dataset of advertising campaign engagement from Facebook. Each row is an ad that ran on the platform. It includes the amount spent on the campaign, and other outcome/engagement data. \n",
    "\n",
    "Can we use this data to learn how to advertise more effectively?\n",
    "\n",
    "Find the correlation between Amount Spent and these variables:\n",
    "\n",
    "Reach <br>\n",
    "Frequency <br>\n",
    "Unique Clicks <br>\n",
    "Page Likes <br>\n",
    "\n",
    "Then run a regression where Unique Clicks is the dependent variable and Reach and Frequency are the independent (predictor) variables."
   ]
  },
  {
   "cell_type": "code",
   "execution_count": 2,
   "metadata": {},
   "outputs": [],
   "source": [
    "import pandas as pd\n",
    "from pandas import DataFrame\n",
    "import datetime\n",
    "import dateutil.parser   \n",
    "import numpy\n",
    "import statsmodels.api as sm"
   ]
  },
  {
   "cell_type": "code",
   "execution_count": 3,
   "metadata": {},
   "outputs": [],
   "source": [
    "#assigns filename into string variable\n",
    "pony = pd.read_csv(\"Travel Pony Facebook.csv\")"
   ]
  },
  {
   "cell_type": "code",
   "execution_count": 12,
   "metadata": {},
   "outputs": [],
   "source": [
    "#create column 'cost per impression' by dividing Amount Spent / Impressions and save that as a column.\n",
    "pony['costperimpression'] = pony['Amount Spent (USD)'] / pony['Impressions']"
   ]
  },
  {
   "cell_type": "code",
   "execution_count": 8,
   "metadata": {},
   "outputs": [],
   "source": [
    "# Create new variable to translate Start Date into day of the week format\n",
    "weekdate = pd.to_datetime(pony['Start Date'], format = '%x')   \n",
    "dayofweek = weekdate.dt.strftime('%A')"
   ]
  },
  {
   "cell_type": "code",
   "execution_count": 30,
   "metadata": {},
   "outputs": [
    {
     "name": "stdout",
     "output_type": "stream",
     "text": [
      "Monday Cost Per Impression = 0.0029099769333124532\n",
      "Tuesday Cost Per Impression = 0.003040039601778186\n",
      "Wednesday Cost Per Impression = 0.002980820271366957\n",
      "Thursday Cost Per Impression = 0.003398311623555868\n",
      "Friday Cost Per Impression = 0.004096890719487211\n",
      "Saturday Cost Per Impression = 0.0026286969333697923\n",
      "Sunday Cost Per Impression = 0.003687913293955785\n"
     ]
    }
   ],
   "source": [
    "# Use variable to add new column to dataframe\n",
    "pony['Day of Week'] = dayofweek\n",
    "\n",
    "# find cost per impression by day\n",
    "MondayCost = pony[pony['Day of Week'] == 'Monday']\n",
    "MondayImpress = numpy.mean(MondayCost['costperimpression'])\n",
    "print ('Monday Cost Per Impression = ' + str(MondayImpress))\n",
    "\n",
    "TuesdayCost = pony[pony['Day of Week'] == 'Tuesday']\n",
    "TuesdayImpress = numpy.mean(TuesdayCost['costperimpression'])\n",
    "print ('Tuesday Cost Per Impression = ' + str(TuesdayImpress))\n",
    "\n",
    "WednesdayCost = pony[pony['Day of Week'] == 'Wednesday']\n",
    "WednesdayImpress = numpy.mean(WednesdayCost['costperimpression'])\n",
    "print ('Wednesday Cost Per Impression = ' + str(WednesdayImpress))\n",
    "\n",
    "ThursdayCost = pony[pony['Day of Week'] == 'Thursday']\n",
    "ThursdayImpress = numpy.mean(ThursdayCost['costperimpression'])\n",
    "print ('Thursday Cost Per Impression = ' + str(ThursdayImpress))\n",
    "\n",
    "FridayCost = pony[pony['Day of Week'] == 'Friday']\n",
    "FridayImpress = numpy.mean(FridayCost['costperimpression'])\n",
    "print ('Friday Cost Per Impression = ' + str(FridayImpress))\n",
    "\n",
    "SaturdayCost = pony[pony['Day of Week'] == 'Saturday']\n",
    "SaturdayImpress = numpy.mean(SaturdayCost['costperimpression'])\n",
    "print ('Saturday Cost Per Impression = ' + str(SaturdayImpress))\n",
    "\n",
    "SundayCost = pony[pony['Day of Week'] == 'Sunday']\n",
    "SundayImpress = numpy.mean(SundayCost['costperimpression'])\n",
    "print ('Sunday Cost Per Impression = ' + str(SundayImpress))\n",
    "\n",
    "#Cheapest day to generate impressions = Saturday\n",
    "#Most expensive day to generate impressions = Friday"
   ]
  },
  {
   "cell_type": "code",
   "execution_count": 31,
   "metadata": {},
   "outputs": [
    {
     "name": "stdout",
     "output_type": "stream",
     "text": [
      "                    Amount Spent (USD)     Reach  Frequency  Unique Clicks  \\\n",
      "Amount Spent (USD)            1.000000  0.703124   0.130201       0.882993   \n",
      "Reach                         0.703124  1.000000   0.334101       0.722249   \n",
      "Frequency                     0.130201  0.334101   1.000000       0.135103   \n",
      "Unique Clicks                 0.882993  0.722249   0.135103       1.000000   \n",
      "Page Likes                    0.757612  0.304388   0.000182       0.584614   \n",
      "\n",
      "                    Page Likes  \n",
      "Amount Spent (USD)    0.757612  \n",
      "Reach                 0.304388  \n",
      "Frequency             0.000182  \n",
      "Unique Clicks         0.584614  \n",
      "Page Likes            1.000000  \n"
     ]
    }
   ],
   "source": [
    "#Compute correlation between: Reach, Frequency, Unique Clicks, Page Likes\n",
    "#Which correlation is the strongest? What does that mean practically? (respond in a tweet or less)\n",
    "\n",
    "#Limit to only desired columns for correlation\n",
    "slimpony = pony[['Amount Spent (USD)','Reach','Frequency','Unique Clicks','Page Likes']] \n",
    "print(slimpony.corr())\n",
    "\n",
    "#The strongest correlation is between Reach and Unique Clicks. \n",
    "#This means that if you are looking for the biggest reach, try to devote attention to unique clicks as an advertising goal."
   ]
  },
  {
   "cell_type": "code",
   "execution_count": 33,
   "metadata": {},
   "outputs": [
    {
     "data": {
      "text/html": [
       "<table class=\"simpletable\">\n",
       "<caption>OLS Regression Results</caption>\n",
       "<tr>\n",
       "  <th>Dep. Variable:</th>      <td>Unique Clicks</td>  <th>  R-squared:         </th> <td>   0.557</td> \n",
       "</tr>\n",
       "<tr>\n",
       "  <th>Model:</th>                   <td>OLS</td>       <th>  Adj. R-squared:    </th> <td>   0.556</td> \n",
       "</tr>\n",
       "<tr>\n",
       "  <th>Method:</th>             <td>Least Squares</td>  <th>  F-statistic:       </th> <td>   2325.</td> \n",
       "</tr>\n",
       "<tr>\n",
       "  <th>Date:</th>             <td>Tue, 16 Oct 2018</td> <th>  Prob (F-statistic):</th>  <td>  0.00</td>  \n",
       "</tr>\n",
       "<tr>\n",
       "  <th>Time:</th>                 <td>19:02:04</td>     <th>  Log-Likelihood:    </th> <td> -15973.</td> \n",
       "</tr>\n",
       "<tr>\n",
       "  <th>No. Observations:</th>      <td>  3705</td>      <th>  AIC:               </th> <td>3.195e+04</td>\n",
       "</tr>\n",
       "<tr>\n",
       "  <th>Df Residuals:</th>          <td>  3703</td>      <th>  BIC:               </th> <td>3.196e+04</td>\n",
       "</tr>\n",
       "<tr>\n",
       "  <th>Df Model:</th>              <td>     2</td>      <th>                     </th>     <td> </td>    \n",
       "</tr>\n",
       "<tr>\n",
       "  <th>Covariance Type:</th>      <td>nonrobust</td>    <th>                     </th>     <td> </td>    \n",
       "</tr>\n",
       "</table>\n",
       "<table class=\"simpletable\">\n",
       "<tr>\n",
       "      <td></td>         <th>coef</th>     <th>std err</th>      <th>t</th>      <th>P>|t|</th>  <th>[0.025</th>    <th>0.975]</th>  \n",
       "</tr>\n",
       "<tr>\n",
       "  <th>Reach</th>     <td>    0.0019</td> <td> 3.12e-05</td> <td>   62.490</td> <td> 0.000</td> <td>    0.002</td> <td>    0.002</td>\n",
       "</tr>\n",
       "<tr>\n",
       "  <th>Frequency</th> <td>    3.6139</td> <td>    0.298</td> <td>   12.109</td> <td> 0.000</td> <td>    3.029</td> <td>    4.199</td>\n",
       "</tr>\n",
       "</table>\n",
       "<table class=\"simpletable\">\n",
       "<tr>\n",
       "  <th>Omnibus:</th>       <td>5107.616</td> <th>  Durbin-Watson:     </th>  <td>   0.803</td>  \n",
       "</tr>\n",
       "<tr>\n",
       "  <th>Prob(Omnibus):</th>  <td> 0.000</td>  <th>  Jarque-Bera (JB):  </th> <td>5128392.747</td>\n",
       "</tr>\n",
       "<tr>\n",
       "  <th>Skew:</th>           <td> 7.331</td>  <th>  Prob(JB):          </th>  <td>    0.00</td>  \n",
       "</tr>\n",
       "<tr>\n",
       "  <th>Kurtosis:</th>       <td>184.674</td> <th>  Cond. No.          </th>  <td>9.84e+03</td>  \n",
       "</tr>\n",
       "</table><br/><br/>Warnings:<br/>[1] Standard Errors assume that the covariance matrix of the errors is correctly specified.<br/>[2] The condition number is large, 9.84e+03. This might indicate that there are<br/>strong multicollinearity or other numerical problems."
      ],
      "text/plain": [
       "<class 'statsmodels.iolib.summary.Summary'>\n",
       "\"\"\"\n",
       "                            OLS Regression Results                            \n",
       "==============================================================================\n",
       "Dep. Variable:          Unique Clicks   R-squared:                       0.557\n",
       "Model:                            OLS   Adj. R-squared:                  0.556\n",
       "Method:                 Least Squares   F-statistic:                     2325.\n",
       "Date:                Tue, 16 Oct 2018   Prob (F-statistic):               0.00\n",
       "Time:                        19:02:04   Log-Likelihood:                -15973.\n",
       "No. Observations:                3705   AIC:                         3.195e+04\n",
       "Df Residuals:                    3703   BIC:                         3.196e+04\n",
       "Df Model:                           2                                         \n",
       "Covariance Type:            nonrobust                                         \n",
       "==============================================================================\n",
       "                 coef    std err          t      P>|t|      [0.025      0.975]\n",
       "------------------------------------------------------------------------------\n",
       "Reach          0.0019   3.12e-05     62.490      0.000       0.002       0.002\n",
       "Frequency      3.6139      0.298     12.109      0.000       3.029       4.199\n",
       "==============================================================================\n",
       "Omnibus:                     5107.616   Durbin-Watson:                   0.803\n",
       "Prob(Omnibus):                  0.000   Jarque-Bera (JB):          5128392.747\n",
       "Skew:                           7.331   Prob(JB):                         0.00\n",
       "Kurtosis:                     184.674   Cond. No.                     9.84e+03\n",
       "==============================================================================\n",
       "\n",
       "Warnings:\n",
       "[1] Standard Errors assume that the covariance matrix of the errors is correctly specified.\n",
       "[2] The condition number is large, 9.84e+03. This might indicate that there are\n",
       "strong multicollinearity or other numerical problems.\n",
       "\"\"\""
      ]
     },
     "execution_count": 33,
     "metadata": {},
     "output_type": "execute_result"
    }
   ],
   "source": [
    "#Finally, perform a simple multiple regression analysis where Unique Clicks is the dependent variable \n",
    "#and Reach and Frequency are the independent (predictor) variables.\n",
    "X = pony[['Reach', 'Frequency']]\n",
    "y = pony['Unique Clicks']\n",
    "model = sm.OLS(y, X).fit()\n",
    "predictions = model.predict(X)\n",
    "model.summary()\n",
    "\n",
    "#What variable most strongly predicts unique clicks? What does that mean practically? (respond in a tweet or less)\n",
    "#Frequency is the strongest predictor of unique clicks (coefficient of 3.61), which means unique clicks increase more when \n",
    "#frequency increases than when reach increases "
   ]
  },
  {
   "cell_type": "code",
   "execution_count": null,
   "metadata": {},
   "outputs": [],
   "source": []
  }
 ],
 "metadata": {
  "kernelspec": {
   "display_name": "Python 3",
   "language": "python",
   "name": "python3"
  },
  "language_info": {
   "codemirror_mode": {
    "name": "ipython",
    "version": 3
   },
   "file_extension": ".py",
   "mimetype": "text/x-python",
   "name": "python",
   "nbconvert_exporter": "python",
   "pygments_lexer": "ipython3",
   "version": "3.6.5"
  }
 },
 "nbformat": 4,
 "nbformat_minor": 2
}
