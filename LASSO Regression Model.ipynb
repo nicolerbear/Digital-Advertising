{
 "cells": [
  {
   "cell_type": "markdown",
   "metadata": {},
   "source": [
    "# LASSO Regression to predict census variables for greatest sales\n",
    "## By Nicole Haberer\n",
    "## Created for APRD6342\n",
    "\n",
    "Modeling sales data with the LASSO Regression Model to help account for collinearity in a large dataset. \n",
    "\n",
    "We are trying to determine which census variables are the greatest predictors of sales for Bobo bars."
   ]
  },
  {
   "cell_type": "code",
   "execution_count": 14,
   "metadata": {},
   "outputs": [],
   "source": [
    "import pandas as pd\n",
    "from sklearn.cross_validation import train_test_split\n",
    "from sklearn.linear_model import LassoLarsCV\n",
    "from sklearn.datasets import make_regression\n",
    "import matplotlib.pyplot as plt\n",
    "from sklearn.metrics import mean_squared_error\n",
    "\n",
    "def warn(*args, **kwargs):\n",
    "    pass\n",
    "import warnings\n",
    "warnings.warn = warn"
   ]
  },
  {
   "cell_type": "code",
   "execution_count": 15,
   "metadata": {},
   "outputs": [],
   "source": [
    "#import csv file with Purchases and all predictors\n",
    "alldata = pd.read_csv(\"finalmaster-ratios.csv\")"
   ]
  },
  {
   "cell_type": "code",
   "execution_count": 16,
   "metadata": {},
   "outputs": [],
   "source": [
    "#create a list of all variable names (ie. column titles)\n",
    "allvariablenames = list(alldata.columns.values)\n",
    "\n",
    "#limit my variables list to just predictors we are concerned with\n",
    "allvariablenames2 = allvariablenames[8:]\n",
    "\n",
    "#load predictors into dataframe\n",
    "predictors = alldata.loc[:,'B01001008':'B19001017']  \n",
    "\n",
    "#load target into dataframe\n",
    "target = alldata['# Purchases'] "
   ]
  },
  {
   "cell_type": "code",
   "execution_count": 17,
   "metadata": {},
   "outputs": [
    {
     "name": "stdout",
     "output_type": "stream",
     "text": [
      "['B01001036' 2.7861365955132507]\n",
      "['B01001037' 0.9200572652790069]\n",
      "['B01001038' 0.9459340522644333]\n",
      "['B02001005' 0.39156809216155525]\n",
      "['B13014026' 0.22056164158451835]\n",
      "['B13014027' 0.05049787197081092]\n",
      "['B19001017' 1.6062678580473928]\n"
     ]
    }
   ],
   "source": [
    "# split data into train and test sets, with 30% retained for test\n",
    "pred_train, pred_test, tar_train, tar_test = train_test_split(predictors, target, test_size=.3, random_state=123)                 \n",
    "                 \n",
    "# specify the lasso regression model\n",
    "model = LassoLarsCV(cv=10, precompute=False)\n",
    "model.fit(pred_train, tar_train)\n",
    "\n",
    "# build coefficent chart\n",
    "predictors_model=pd.DataFrame(allvariablenames2)\n",
    "predictors_model.columns = ['label']\n",
    "predictors_model['coeff'] = model.coef_\n",
    "\n",
    "for index, row in predictors_model.iterrows():\n",
    "    if row['coeff'] > 0:\n",
    "        print(row.values)  "
   ]
  },
  {
   "cell_type": "markdown",
   "metadata": {},
   "source": [
    "This code is running a LASSO regression model against all of our identified predictors using 10-fold cross-validation.\n",
    "\n",
    "We fit the model using our sets of data for pred_train and tar_train  as training data. Then the coefficient chart is looking at all of these variables (predictors) to identify the coefficients, which tells us how much increasing a variable by one will increase our target (Purchases).\n",
    "\n",
    "The list is being filtered by positive, significant coefficients, which is great because we are only concerned with positive correlations or how to increase our target"
   ]
  },
  {
   "cell_type": "markdown",
   "metadata": {},
   "source": [
    "#### Breakdown of Significant Coefficients\n",
    "\n",
    "Age Identifiers        \n",
    "B01001036 = 30 to 34 Years\n",
    "B01001037 = 35 to 39 Years\n",
    "B01001038 = 40 to 44 Years\n",
    "        \n",
    "Race Identifiers        \n",
    "B02001005 = Asian Alone\n",
    "        \n",
    "Women 15 to 50 Years Who Had a Birth in the Past 12 Months\n",
    "B13014026 =  Unmarried (Never Married, Widowed and Divorced) and have a Bachelor's Degree\n",
    "B13014027 = Unmarried (Never Married, Widowed and Divorced) and have a Graduate or Professional Degree\n",
    "\n",
    "Household Income\n",
    "B19001017 = Households: $200,000 or More \n",
    "\n",
    "What does this mean?\n",
    "We have the best sales for age range 30-44 where household income is over $200,000\n"
   ]
  },
  {
   "cell_type": "code",
   "execution_count": 18,
   "metadata": {},
   "outputs": [
    {
     "name": "stdout",
     "output_type": "stream",
     "text": [
      "training data MSE\n",
      "22528.486826258624\n"
     ]
    }
   ],
   "source": [
    "#mean squared error for the training and training set      \n",
    "train_error = mean_squared_error(tar_train, model.predict(pred_train))\n",
    "print ('training data MSE')\n",
    "print(train_error)"
   ]
  },
  {
   "cell_type": "code",
   "execution_count": 19,
   "metadata": {},
   "outputs": [
    {
     "name": "stdout",
     "output_type": "stream",
     "text": [
      "test data MSE\n",
      "41578.280293705764\n"
     ]
    }
   ],
   "source": [
    "#mean squared error for the predict test and target test set\n",
    "train_test_error = mean_squared_error(tar_test, model.predict(pred_test))\n",
    "print ('test data MSE')\n",
    "print(train_test_error)"
   ]
  },
  {
   "cell_type": "markdown",
   "metadata": {},
   "source": [
    "Are the training and test set mean squared errors similar? What does that mean practically? \n",
    "\n",
    "No, the training and test set mean squared errors are different. The training data has a lower MSE, meaning \n",
    "it is a better fit for the data than the test data. This is possibly due to oversampling within the training set."
   ]
  },
  {
   "cell_type": "code",
   "execution_count": 20,
   "metadata": {},
   "outputs": [
    {
     "name": "stdout",
     "output_type": "stream",
     "text": [
      "training data R-square\n",
      "0.22266652028942102\n"
     ]
    }
   ],
   "source": [
    "#r squared for training set\n",
    "rsquared_train=model.score(pred_train,tar_train)\n",
    "print ('training data R-square')\n",
    "print(rsquared_train)"
   ]
  },
  {
   "cell_type": "code",
   "execution_count": 21,
   "metadata": {},
   "outputs": [
    {
     "name": "stdout",
     "output_type": "stream",
     "text": [
      "test data R-square\n",
      "0.17529294561525344\n"
     ]
    }
   ],
   "source": [
    "#r squared for training set\n",
    "rsquared_test=model.score(pred_test,tar_test)\n",
    "print ('test data R-square')\n",
    "print(rsquared_test)"
   ]
  },
  {
   "cell_type": "markdown",
   "metadata": {},
   "source": [
    "Compare the two R Squared values\n",
    "The R squared value for the training set is slightly higher, indicating that this model is slight more accurate at explaining the variability in the data\n",
    "\n",
    "How well does Census data, overall, predict sales?\n",
    "Based on the r squared value of our test data, our model isn't very good at predicting sales. Our goal should be an r squared value of .5 or higher to indicate a reliable model and our current results are a long ways off from this goal.\n",
    " "
   ]
  },
  {
   "cell_type": "code",
   "execution_count": 22,
   "metadata": {},
   "outputs": [
    {
     "name": "stdout",
     "output_type": "stream",
     "text": [
      "y interecept:\n",
      "2.758738710322305\n"
     ]
    }
   ],
   "source": [
    "#let's see what our y-intercept is, so we can interpret what our baseline sales number looks like\n",
    "print(\"y interecept:\")\n",
    "print(model.intercept_)"
   ]
  },
  {
   "cell_type": "markdown",
   "metadata": {},
   "source": [
    "What is our baseline sales number? What does that mean, practically?\n",
    "Our baseline sales number (y-intercept) is 2.75. This means that if all other variables are zero, we sell an average of 2.75 bars per customer."
   ]
  },
  {
   "cell_type": "code",
   "execution_count": null,
   "metadata": {},
   "outputs": [],
   "source": []
  }
 ],
 "metadata": {
  "kernelspec": {
   "display_name": "Python 3",
   "language": "python",
   "name": "python3"
  },
  "language_info": {
   "codemirror_mode": {
    "name": "ipython",
    "version": 3
   },
   "file_extension": ".py",
   "mimetype": "text/x-python",
   "name": "python",
   "nbconvert_exporter": "python",
   "pygments_lexer": "ipython3",
   "version": "3.6.5"
  }
 },
 "nbformat": 4,
 "nbformat_minor": 2
}
